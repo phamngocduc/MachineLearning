{
  "nbformat": 4,
  "nbformat_minor": 0,
  "metadata": {
    "colab": {
      "name": "Confusion_matrix_for_foftmax_vs_svm_iris_database.ipynb",
      "version": "0.3.2",
      "provenance": [],
      "collapsed_sections": [],
      "include_colab_link": true
    },
    "kernelspec": {
      "name": "python3",
      "display_name": "Python 3"
    }
  },
  "cells": [
    {
      "cell_type": "markdown",
      "metadata": {
        "id": "view-in-github",
        "colab_type": "text"
      },
      "source": [
        "<a href=\"https://colab.research.google.com/github/phamngocduc/MachineLearning/blob/master/Confusion_matrix_for_foftmax_vs_svm_iris_database.ipynb\" target=\"_parent\"><img src=\"https://colab.research.google.com/assets/colab-badge.svg\" alt=\"Open In Colab\"/></a>"
      ]
    },
    {
      "cell_type": "markdown",
      "metadata": {
        "id": "mNG-RMw9U5a-",
        "colab_type": "text"
      },
      "source": [
        "**0.Khai báo các thư viện cần thiết**"
      ]
    },
    {
      "cell_type": "code",
      "metadata": {
        "id": "4waqA3hNRTrR",
        "colab_type": "code",
        "colab": {}
      },
      "source": [
        "import pandas as pd\n",
        "import numpy as np\n",
        "import matplotlib.pyplot as plt\n",
        "%matplotlib inline\n",
        "import scipy.sparse\n",
        "import numpy as np \n",
        "import seaborn as sns\n",
        "from sklearn import metrics"
      ],
      "execution_count": 0,
      "outputs": []
    },
    {
      "cell_type": "markdown",
      "metadata": {
        "id": "hY2XSHv_UUMa",
        "colab_type": "text"
      },
      "source": [
        "**1. Download dữ liệu**"
      ]
    },
    {
      "cell_type": "code",
      "metadata": {
        "id": "X4-WVYcURbQX",
        "colab_type": "code",
        "colab": {}
      },
      "source": [
        "%matplotlib inline\n",
        "#from sklearn.datasets import fetch_mldata\n",
        "from sklearn.datasets import load_iris\n",
        "# Change data_home to wherever to where you want to download your data\n",
        "# mnist = fetch_mldata('MNIST original')\n",
        "irisdata = load_iris()\n",
        "# irisdata if we would have an overlook at the dataset"
      ],
      "execution_count": 0,
      "outputs": []
    },
    {
      "cell_type": "markdown",
      "metadata": {
        "id": "D02D7CemUcR7",
        "colab_type": "text"
      },
      "source": [
        "**2. Tách tập dữ liệu ra làm 2 phần bằng nhau và tiền xử lý**"
      ]
    },
    {
      "cell_type": "code",
      "metadata": {
        "id": "3m-ZNn83RdRY",
        "colab_type": "code",
        "colab": {
          "base_uri": "https://localhost:8080/",
          "height": 85
        },
        "outputId": "ae55f124-590a-4bdc-810d-d0e36635776e"
      },
      "source": [
        "from sklearn.model_selection import train_test_split\n",
        "train_iris, test_iris, train_lbl, test_lbl = train_test_split(\n",
        "      irisdata.data, irisdata.target, test_size=1/2.0, random_state=0)\n",
        "\n",
        "# check the scale of the two splitted datasets\\\n",
        "print(train_iris.shape)\n",
        "print(train_lbl.shape)\n",
        "print(test_iris.shape)\n",
        "print(test_lbl.shape)\n",
        "#train_irisandlbl = np.concatenate((train_iris, train_lbl),axis=0)\n"
      ],
      "execution_count": 93,
      "outputs": [
        {
          "output_type": "stream",
          "text": [
            "(75, 4)\n",
            "(75,)\n",
            "(75, 4)\n",
            "(75,)\n"
          ],
          "name": "stdout"
        }
      ]
    },
    {
      "cell_type": "code",
      "metadata": {
        "id": "st48VGatleht",
        "colab_type": "code",
        "colab": {}
      },
      "source": [
        "# Print some sample training data"
      ],
      "execution_count": 0,
      "outputs": []
    },
    {
      "cell_type": "code",
      "metadata": {
        "id": "XmBCEzebChGl",
        "colab_type": "code",
        "colab": {}
      },
      "source": [
        "# Data normalization if neccessary"
      ],
      "execution_count": 0,
      "outputs": []
    },
    {
      "cell_type": "markdown",
      "metadata": {
        "id": "5fPejmGvUltu",
        "colab_type": "text"
      },
      "source": [
        "**3. Định nghĩa các hàm sẽ sử dụng**"
      ]
    },
    {
      "cell_type": "markdown",
      "metadata": {
        "id": "0AvZ7GJiUr33",
        "colab_type": "text"
      },
      "source": [
        "a. Tìm các ví dụ phân lớp sai "
      ]
    },
    {
      "cell_type": "code",
      "metadata": {
        "id": "Tdqyg7nHlpG7",
        "colab_type": "code",
        "colab": {}
      },
      "source": [
        "def find_misClassification(test_label,predictions):\n",
        "    index = 0\n",
        "    misclassifiedIndexes = []\n",
        "    for label, predict in zip(test_lbl, predictions):\n",
        "        if label != predict: \n",
        "            misclassifiedIndexes.append(index)\n",
        "        index +=1\n",
        "    return misclassifiedIndexes "
      ],
      "execution_count": 0,
      "outputs": []
    },
    {
      "cell_type": "markdown",
      "metadata": {
        "id": "zVK1lih_Uw5l",
        "colab_type": "text"
      },
      "source": [
        "b. Visualize các ví dụ sai "
      ]
    },
    {
      "cell_type": "code",
      "metadata": {
        "id": "6W1fEp6urcsu",
        "colab_type": "code",
        "colab": {}
      },
      "source": [
        "#def draw_misclassified_samples(predictions, misclassifiedIndexes, index):\n",
        "# plt.title('Predicted: {}, Actual: {}'.format(predictions[badIndex], test_lbl[badIndex]), fontsize = 15)        "
      ],
      "execution_count": 0,
      "outputs": []
    },
    {
      "cell_type": "markdown",
      "metadata": {
        "id": "ARRLWklCU2Q2",
        "colab_type": "text"
      },
      "source": [
        "c. Vẽ ma trận lỗi"
      ]
    },
    {
      "cell_type": "code",
      "metadata": {
        "id": "AChDl4ZUru0P",
        "colab_type": "code",
        "colab": {}
      },
      "source": [
        "def draw_confusion_matrix_with_seaborn(test_label, predictions, score):\n",
        "    cm = metrics.confusion_matrix(test_lbl, predictions)\n",
        "    plt.figure(figsize=(9,9))\n",
        "    sns.heatmap(cm, annot=True, fmt=\".3f\", linewidths=.5, square = True, cmap = 'Blues_r');\n",
        "    plt.ylabel('Actual label');\n",
        "    plt.xlabel('Predicte   d label');\n",
        "    all_sample_title = 'Accuracy Score: {0}'.format(score)\n",
        "    plt.title(all_sample_title, size = 15);\n",
        "    #plt.savefig('toy_Digits_ConfusionSeabornCodementor.png')\n",
        "    plt.show()"
      ],
      "execution_count": 0,
      "outputs": []
    },
    {
      "cell_type": "code",
      "metadata": {
        "id": "Nr3Bs-krrvVo",
        "colab_type": "code",
        "colab": {}
      },
      "source": [
        "def draw_confusion_matrix_with_matplotlib(test_label, predictions, score):\n",
        "    cm = metrics.confusion_matrix(test_lbl, predictions)\n",
        "    plt.figure(figsize=(9,9))\n",
        "    plt.imshow(cm, interpolation='nearest', cmap='Pastel1')\n",
        "    plt.title('Confusion matrix', size = 15)\n",
        "    plt.colorbar()\n",
        "    tick_marks = np.arange(10)\n",
        "    plt.xticks(tick_marks, [\"0\", \"1\", \"2\", \"3\", \"4\", \"5\", \"6\", \"7\", \"8\", \"9\"], rotation=45, size = 10)\n",
        "    plt.yticks(tick_marks, [\"0\", \"1\", \"2\", \"3\", \"4\", \"5\", \"6\", \"7\", \"8\", \"9\"], size = 10)\n",
        "    plt.tight_layout()\n",
        "    plt.ylabel('Actual label', size = 15)\n",
        "    plt.xlabel('Predicted label', size = 15)\n",
        "    width, height = cm.shape\n",
        "\n",
        "    for x in range(width):\n",
        "        for y in range(height):\n",
        "             plt.annotate(str(cm[x][y]), xy=(y, x), \n",
        "                    horizontalalignment='center',\n",
        "                    verticalalignment='center')\n",
        "#plt.savefig('toy_Digits_ConfusionMatplotlibCodementor.png')"
      ],
      "execution_count": 0,
      "outputs": []
    },
    {
      "cell_type": "markdown",
      "metadata": {
        "id": "qpu7Nmd1VNwm",
        "colab_type": "text"
      },
      "source": [
        "**4. Lựa chọn và huấn luyện mô hình **"
      ]
    },
    {
      "cell_type": "code",
      "metadata": {
        "id": "IeTf8eqkrz32",
        "colab_type": "code",
        "colab": {}
      },
      "source": [
        "from sklearn.linear_model import LogisticRegression \n",
        "logisticRegr = LogisticRegression(solver='lbfgs', multi_class='multinomial')\n"
      ],
      "execution_count": 0,
      "outputs": []
    },
    {
      "cell_type": "code",
      "metadata": {
        "id": "4hCtWFadr-AH",
        "colab_type": "code",
        "outputId": "22fa2c82-4b2b-4a66-b027-65f1a78f3c55",
        "colab": {
          "base_uri": "https://localhost:8080/",
          "height": 85
        }
      },
      "source": [
        "logisticRegr.fit(train_iris, train_lbl)"
      ],
      "execution_count": 101,
      "outputs": [
        {
          "output_type": "execute_result",
          "data": {
            "text/plain": [
              "LogisticRegression(C=1.0, class_weight=None, dual=False, fit_intercept=True,\n",
              "          intercept_scaling=1, max_iter=100, multi_class='multinomial',\n",
              "          n_jobs=None, penalty='l2', random_state=None, solver='lbfgs',\n",
              "          tol=0.0001, verbose=0, warm_start=False)"
            ]
          },
          "metadata": {
            "tags": []
          },
          "execution_count": 101
        }
      ]
    },
    {
      "cell_type": "markdown",
      "metadata": {
        "id": "yKUiLjg4VVON",
        "colab_type": "text"
      },
      "source": [
        "**5. Đánh giá mô hình**"
      ]
    },
    {
      "cell_type": "code",
      "metadata": {
        "id": "YMNtz7Afr_2e",
        "colab_type": "code",
        "outputId": "398c9d3a-eb0c-4f93-f9ab-c7ded60ccba4",
        "colab": {
          "base_uri": "https://localhost:8080/",
          "height": 34
        }
      },
      "source": [
        "logisticRegr.predict(test_iris[0].reshape(1,-1))\n"
      ],
      "execution_count": 102,
      "outputs": [
        {
          "output_type": "execute_result",
          "data": {
            "text/plain": [
              "array([2])"
            ]
          },
          "metadata": {
            "tags": []
          },
          "execution_count": 102
        }
      ]
    },
    {
      "cell_type": "code",
      "metadata": {
        "id": "jyck7_LYsBwf",
        "colab_type": "code",
        "outputId": "2f825d28-4d8e-4b71-ba42-9e477318a3a9",
        "colab": {
          "base_uri": "https://localhost:8080/",
          "height": 85
        }
      },
      "source": [
        "logisticRegr.predict(test_iris[0:70])"
      ],
      "execution_count": 103,
      "outputs": [
        {
          "output_type": "execute_result",
          "data": {
            "text/plain": [
              "array([2, 1, 0, 2, 0, 2, 0, 1, 1, 1, 2, 1, 1, 1, 1, 0, 1, 1, 0, 0, 2, 1,\n",
              "       0, 0, 1, 0, 0, 1, 1, 0, 2, 1, 0, 2, 2, 1, 0, 2, 1, 1, 2, 0, 2, 0,\n",
              "       0, 1, 2, 2, 1, 2, 1, 2, 1, 1, 2, 1, 1, 2, 1, 2, 1, 0, 2, 1, 1, 1,\n",
              "       1, 2, 0, 0])"
            ]
          },
          "metadata": {
            "tags": []
          },
          "execution_count": 103
        }
      ]
    },
    {
      "cell_type": "code",
      "metadata": {
        "id": "waudNHCktfQr",
        "colab_type": "code",
        "colab": {
          "base_uri": "https://localhost:8080/",
          "height": 85
        },
        "outputId": "48090b60-dcf0-401b-d579-8d90d645d657"
      },
      "source": [
        "test_lbl[0:70]"
      ],
      "execution_count": 104,
      "outputs": [
        {
          "output_type": "execute_result",
          "data": {
            "text/plain": [
              "array([2, 1, 0, 2, 0, 2, 0, 1, 1, 1, 2, 1, 1, 1, 1, 0, 1, 1, 0, 0, 2, 1,\n",
              "       0, 0, 2, 0, 0, 1, 1, 0, 2, 1, 0, 2, 2, 1, 0, 1, 1, 1, 2, 0, 2, 0,\n",
              "       0, 1, 2, 2, 2, 2, 1, 2, 1, 1, 2, 2, 2, 2, 1, 2, 1, 0, 2, 1, 1, 1,\n",
              "       1, 2, 0, 0])"
            ]
          },
          "metadata": {
            "tags": []
          },
          "execution_count": 104
        }
      ]
    },
    {
      "cell_type": "code",
      "metadata": {
        "id": "mk3oc24msErG",
        "colab_type": "code",
        "outputId": "bba51d47-a216-460e-b20a-3ac62749e3f9",
        "colab": {
          "base_uri": "https://localhost:8080/",
          "height": 34
        }
      },
      "source": [
        "softmax_predictions = logisticRegr.predict(test_iris)\n",
        "softmax_score = logisticRegr.score(test_iris, test_lbl)\n",
        "print(softmax_score)"
      ],
      "execution_count": 105,
      "outputs": [
        {
          "output_type": "stream",
          "text": [
            "0.9333333333333333\n"
          ],
          "name": "stdout"
        }
      ]
    },
    {
      "cell_type": "code",
      "metadata": {
        "id": "6S04W8_csJYW",
        "colab_type": "code",
        "outputId": "b4f57495-eb5d-48f1-ffdd-b1788dbea4b4",
        "colab": {
          "base_uri": "https://localhost:8080/",
          "height": 34
        }
      },
      "source": [
        "soft_max_misclassifiedIndexes = find_misClassification(test_lbl,softmax_predictions )\n",
        "print(len(soft_max_misclassifiedIndexes))\n",
        "#draw_misclassified_samples(softmax_predictions, soft_max_misclassifiedIndexes, 5)"
      ],
      "execution_count": 106,
      "outputs": [
        {
          "output_type": "stream",
          "text": [
            "5\n"
          ],
          "name": "stdout"
        }
      ]
    },
    {
      "cell_type": "code",
      "metadata": {
        "id": "7gPUyaJ6sGOm",
        "colab_type": "code",
        "outputId": "0a1b20a5-66e5-4556-c78d-6f65d6a523ed",
        "colab": {
          "base_uri": "https://localhost:8080/",
          "height": 530
        }
      },
      "source": [
        "draw_confusion_matrix_with_seaborn(test_lbl, softmax_predictions, softmax_score)"
      ],
      "execution_count": 107,
      "outputs": [
        {
          "output_type": "display_data",
          "data": {
            "image/png": "[encoded data removed]",
            "text/plain": [
              "<Figure size 648x648 with 2 Axes>"
            ]
          },
          "metadata": {
            "tags": []
          }
        }
      ]
    },
    {
      "cell_type": "code",
      "metadata": {
        "id": "LxL6_MRbsYNW",
        "colab_type": "code",
        "outputId": "b190e05c-7374-4a32-9c51-2a2150b4dcb6",
        "colab": {
          "base_uri": "https://localhost:8080/",
          "height": 657
        }
      },
      "source": [
        "draw_confusion_matrix_with_matplotlib(test_lbl, softmax_predictions, softmax_score)"
      ],
      "execution_count": 108,
      "outputs": [
        {
          "output_type": "display_data",
          "data": {
            "image/png": "[encoded data removed]",
            "text/plain": [
              "<Figure size 648x648 with 2 Axes>"
            ]
          },
          "metadata": {
            "tags": []
          }
        }
      ]
    },
    {
      "cell_type": "markdown",
      "metadata": {
        "id": "FS51DoxMY5lR",
        "colab_type": "text"
      },
      "source": [
        "**Support Vector Machine with Radial basis function kernel**"
      ]
    },
    {
      "cell_type": "code",
      "metadata": {
        "id": "TofLe4QGSXMd",
        "colab_type": "code",
        "colab": {}
      },
      "source": [
        "from sklearn.svm import SVC\n",
        "svm_classifier = SVC(C=200,kernel='rbf',gamma=0.01,cache_size=8000,probability=False)"
      ],
      "execution_count": 0,
      "outputs": []
    },
    {
      "cell_type": "code",
      "metadata": {
        "id": "Jx_iWEjtZTzr",
        "colab_type": "code",
        "outputId": "80abef74-381d-479c-c6bc-833cce47c6d7",
        "colab": {
          "base_uri": "https://localhost:8080/",
          "height": 85
        }
      },
      "source": [
        "svm_classifier.fit(train_iris,train_lbl)"
      ],
      "execution_count": 110,
      "outputs": [
        {
          "output_type": "execute_result",
          "data": {
            "text/plain": [
              "SVC(C=200, cache_size=8000, class_weight=None, coef0=0.0,\n",
              "  decision_function_shape='ovr', degree=3, gamma=0.01, kernel='rbf',\n",
              "  max_iter=-1, probability=False, random_state=None, shrinking=True,\n",
              "  tol=0.001, verbose=False)"
            ]
          },
          "metadata": {
            "tags": []
          },
          "execution_count": 110
        }
      ]
    },
    {
      "cell_type": "code",
      "metadata": {
        "id": "Z_jJVnkXslRQ",
        "colab_type": "code",
        "outputId": "16feb066-ba85-4b90-e506-55f9713a4609",
        "colab": {
          "base_uri": "https://localhost:8080/",
          "height": 34
        }
      },
      "source": [
        "svm_classifier.predict(test_iris[0].reshape(1,-1))"
      ],
      "execution_count": 111,
      "outputs": [
        {
          "output_type": "execute_result",
          "data": {
            "text/plain": [
              "array([2])"
            ]
          },
          "metadata": {
            "tags": []
          },
          "execution_count": 111
        }
      ]
    },
    {
      "cell_type": "code",
      "metadata": {
        "id": "_pswD7cRsqCm",
        "colab_type": "code",
        "outputId": "335394e4-ad04-4b1e-e23d-c55850db00f5",
        "colab": {
          "base_uri": "https://localhost:8080/",
          "height": 34
        }
      },
      "source": [
        "svm_predictions = svm_classifier.predict(test_iris)\n",
        "svm_score = svm_classifier.score(test_iris, test_lbl)\n",
        "print(svm_score)"
      ],
      "execution_count": 112,
      "outputs": [
        {
          "output_type": "stream",
          "text": [
            "0.9333333333333333\n"
          ],
          "name": "stdout"
        }
      ]
    },
    {
      "cell_type": "code",
      "metadata": {
        "id": "zeY86Ph0srSo",
        "colab_type": "code",
        "colab": {}
      },
      "source": [
        ""
      ],
      "execution_count": 0,
      "outputs": []
    },
    {
      "cell_type": "code",
      "metadata": {
        "id": "a5WVAf5SssqX",
        "colab_type": "code",
        "outputId": "705e8a6b-087e-44bc-ce92-6ec986d96642",
        "colab": {
          "base_uri": "https://localhost:8080/",
          "height": 530
        }
      },
      "source": [
        "draw_confusion_matrix_with_seaborn(test_lbl, svm_predictions, svm_score)"
      ],
      "execution_count": 113,
      "outputs": [
        {
          "output_type": "display_data",
          "data": {
            "image/png": "[encoded data removed]",
            "text/plain": [
              "<Figure size 648x648 with 2 Axes>"
            ]
          },
          "metadata": {
            "tags": []
          }
        }
      ]
    },
    {
      "cell_type": "code",
      "metadata": {
        "id": "yqLC9hRpsuLw",
        "colab_type": "code",
        "outputId": "e55bd3fe-e96d-40c7-983c-a5275da07cc6",
        "colab": {
          "base_uri": "https://localhost:8080/",
          "height": 657
        }
      },
      "source": [
        "draw_confusion_matrix_with_matplotlib(test_lbl, svm_predictions, svm_score)"
      ],
      "execution_count": 114,
      "outputs": [
        {
          "output_type": "display_data",
          "data": {
            "image/png": "[encoded data removed]",
            "text/plain": [
              "<Figure size 648x648 with 2 Axes>"
            ]
          },
          "metadata": {
            "tags": []
          }
        }
      ]
    },
    {
      "cell_type": "markdown",
      "metadata": {
        "id": "F4GOk6POY-Ci",
        "colab_type": "text"
      },
      "source": [
        "**Support Vector Machine with Polynominal kernel**"
      ]
    },
    {
      "cell_type": "code",
      "metadata": {
        "id": "3xzT6kIbhiwB",
        "colab_type": "code",
        "colab": {}
      },
      "source": [
        "from sklearn.svm import SVC\n",
        "svm_poly_classifier = SVC(C=200,kernel='poly',gamma=0.01,cache_size=8000,probability=False)"
      ],
      "execution_count": 0,
      "outputs": []
    },
    {
      "cell_type": "code",
      "metadata": {
        "id": "_isJtaq1EAo5",
        "colab_type": "code",
        "outputId": "b9a429cb-e8fc-455f-f152-7b47d337999a",
        "colab": {
          "base_uri": "https://localhost:8080/",
          "height": 85
        }
      },
      "source": [
        "svm_poly_classifier.fit(train_iris,train_lbl)\n"
      ],
      "execution_count": 116,
      "outputs": [
        {
          "output_type": "execute_result",
          "data": {
            "text/plain": [
              "SVC(C=200, cache_size=8000, class_weight=None, coef0=0.0,\n",
              "  decision_function_shape='ovr', degree=3, gamma=0.01, kernel='poly',\n",
              "  max_iter=-1, probability=False, random_state=None, shrinking=True,\n",
              "  tol=0.001, verbose=False)"
            ]
          },
          "metadata": {
            "tags": []
          },
          "execution_count": 116
        }
      ]
    },
    {
      "cell_type": "code",
      "metadata": {
        "id": "l2bv7J23EQrT",
        "colab_type": "code",
        "outputId": "379d2746-5266-4c16-d698-e5af19728ba4",
        "colab": {
          "base_uri": "https://localhost:8080/",
          "height": 34
        }
      },
      "source": [
        "svm_poly_predictions = svm_poly_classifier.predict(test_iris)\n",
        "svm_poly_score = svm_poly_classifier.score(test_iris, test_lbl)\n",
        "print(svm_poly_score)"
      ],
      "execution_count": 117,
      "outputs": [
        {
          "output_type": "stream",
          "text": [
            "0.9333333333333333\n"
          ],
          "name": "stdout"
        }
      ]
    },
    {
      "cell_type": "code",
      "metadata": {
        "id": "NdVUjN-iE4UZ",
        "colab_type": "code",
        "outputId": "5d7f4b57-3ac7-4372-c13a-4f1478e88179",
        "colab": {
          "base_uri": "https://localhost:8080/",
          "height": 530
        }
      },
      "source": [
        "draw_confusion_matrix_with_seaborn(test_lbl, svm_poly_predictions, svm_poly_score)"
      ],
      "execution_count": 118,
      "outputs": [
        {
          "output_type": "display_data",
          "data": {
            "image/png": "[encoded data removed]",
            "text/plain": [
              "<Figure size 648x648 with 2 Axes>"
            ]
          },
          "metadata": {
            "tags": []
          }
        }
      ]
    }
  ]
}